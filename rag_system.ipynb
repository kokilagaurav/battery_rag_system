{
 "cells": [
  {
   "cell_type": "markdown",
   "id": "81b51363",
   "metadata": {},
   "source": [
    "# 🔋 Battery RAG System with Memory\n",
    "\n",
    "A Retrieval-Augmented Generation system for battery calculations and analysis with conversation memory.\n",
    "\n",
    "## Features:\n",
    "- 📊 Load and process battery data from CSV\n",
    "- 🧠 Vector embeddings with ChromaDB\n",
    "- 💬 Conversational memory system\n",
    "- 🔍 Semantic search for relevant battery data  \n",
    "- ⚡ Real-time battery calculations"
   ]
  },
  {
   "cell_type": "code",
   "execution_count": 22,
   "id": "774ea0d5",
   "metadata": {},
   "outputs": [],
   "source": [
    "# Core imports\n",
    "import pandas as pd\n",
    "import chromadb\n",
    "from sentence_transformers import SentenceTransformer\n",
    "from datetime import datetime"
   ]
  },
  {
   "cell_type": "code",
   "execution_count": 23,
   "id": "c91413b1",
   "metadata": {},
   "outputs": [],
   "source": [
    "# LangChain imports\n",
    "from langchain.memory import ConversationBufferMemory\n",
    "from langchain.schema import Document\n",
    "from langchain_core.runnables import RunnablePassthrough, RunnableLambda\n",
    "from langchain_core.prompts import PromptTemplate\n",
    "from langchain_core.output_parsers import StrOutputParser"
   ]
  },
  {
   "cell_type": "code",
   "execution_count": null,
   "id": "c7ded040",
   "metadata": {},
   "outputs": [
    {
     "name": "stdout",
     "output_type": "stream",
     "text": [
      "📊 Loading battery data...\n"
     ]
    },
    {
     "name": "stderr",
     "output_type": "stream",
     "text": [
      "C:\\Users\\gaura\\AppData\\Local\\Temp\\ipykernel_17960\\424912056.py:4: FutureWarning: errors='ignore' is deprecated and will raise in a future version. Use to_numeric without passing `errors` and catch exceptions explicitly instead\n",
      "  df = df.apply(pd.to_numeric, errors='ignore').dropna().reset_index(drop=True)\n"
     ]
    },
    {
     "name": "stdout",
     "output_type": "stream",
     "text": [
      "✅ Processed 10000 battery records\n"
     ]
    }
   ],
   "source": [
    "# Load battery data\n",
    "print(\"📊 Loading battery data...\")\n",
    "df = pd.read_csv('battery_data_10000_rows.csv')\n",
    "df = df.apply(pd.to_numeric, errors='ignore').dropna().reset_index(drop=True)\n",
    "print(f\"✅ Loaded {len(df)} battery records\")"
   ]
  },
  {
   "cell_type": "code",
   "execution_count": 27,
   "id": "00eb69a3",
   "metadata": {},
   "outputs": [
    {
     "name": "stdout",
     "output_type": "stream",
     "text": [
      "✅ Created 10000 structured documents\n"
     ]
    }
   ],
   "source": [
    "# Convert rows to structured documents\n",
    "def format_battery_document(row):\n",
    "    \"\"\"Format a battery row into a structured document\"\"\"\n",
    "    return f\"\"\"Battery ID: {row.iloc[0]}\n",
    "Type: {row.iloc[1] if len(row) > 1 else 'Unknown'}\n",
    "Voltage: {row.iloc[2] if len(row) > 2 else 'Unknown'} V\n",
    "Capacity: {row.iloc[3] if len(row) > 3 else 'Unknown'} Ah\n",
    "Energy Density: {row.iloc[4] if len(row) > 4 else 'Unknown'} Wh/kg\"\"\"\n",
    "\n",
    "structured_docs = [format_battery_document(row) for _, row in df.iterrows()]\n",
    "print(f\"✅ Created {len(structured_docs)} structured documents\")"
   ]
  },
  {
   "cell_type": "code",
   "execution_count": null,
   "id": "b212a39d",
   "metadata": {},
   "outputs": [
    {
     "name": "stdout",
     "output_type": "stream",
     "text": [
      "🧠 Creating embeddings...\n"
     ]
    },
    {
     "name": "stderr",
     "output_type": "stream",
     "text": [
      "Batches: 100%|██████████| 313/313 [00:47<00:00,  6.53it/s]\n",
      "\n"
     ]
    },
    {
     "name": "stdout",
     "output_type": "stream",
     "text": [
      "✅ Stored 10000 documents in vector database\n"
     ]
    }
   ],
   "source": [
    "# Create embeddings\n",
    "print(\"🧠 Creating embeddings...\")\n",
    "embedding_model = SentenceTransformer('all-MiniLM-L6-v2')\n",
    "embeddings = embedding_model.encode(structured_docs, show_progress_bar=True)\n",
    "print(f\"✅ Created embeddings with shape: {embeddings.shape}\")"
   ]
  },
  {
   "cell_type": "code",
   "execution_count": 28,
   "id": "79f29c5f",
   "metadata": {},
   "outputs": [
    {
     "name": "stdout",
     "output_type": "stream",
     "text": [
      "🗄️ Setting up ChromaDB...\n",
      "✅ ChromaDB collection created\n"
     ]
    }
   ],
   "source": [
    "# Setup ChromaDB vector store\n",
    "print(\"🗄️ Setting up ChromaDB...\")\n",
    "chroma_client = chromadb.Client()\n",
    "\n",
    "# Clean up existing collection\n",
    "try:\n",
    "    chroma_client.delete_collection(name=\"battery_data\")\n",
    "except:\n",
    "    pass\n",
    "\n",
    "collection = chroma_client.create_collection(name=\"battery_data\")\n",
    "print(\"✅ ChromaDB collection created\")"
   ]
  },
  {
   "cell_type": "code",
   "execution_count": 29,
   "id": "558ea816",
   "metadata": {},
   "outputs": [
    {
     "name": "stdout",
     "output_type": "stream",
     "text": [
      "💾 Storing documents in ChromaDB...\n",
      "   Stored batch 1: 1000 documents\n",
      "   Stored batch 2: 1000 documents\n",
      "   Stored batch 3: 1000 documents\n",
      "   Stored batch 4: 1000 documents\n",
      "   Stored batch 5: 1000 documents\n",
      "   Stored batch 6: 1000 documents\n",
      "   Stored batch 7: 1000 documents\n",
      "   Stored batch 8: 1000 documents\n",
      "   Stored batch 9: 1000 documents\n",
      "   Stored batch 10: 1000 documents\n",
      "✅ Total documents stored: 10000\n"
     ]
    }
   ],
   "source": [
    "# Store documents in batches\n",
    "print(\"💾 Storing documents in ChromaDB...\")\n",
    "batch_size = 1000\n",
    "\n",
    "for i in range(0, len(structured_docs), batch_size):\n",
    "    end_idx = min(i + batch_size, len(structured_docs))\n",
    "    collection.add(\n",
    "        documents=structured_docs[i:end_idx],\n",
    "        embeddings=embeddings[i:end_idx].tolist(),\n",
    "        ids=[str(j) for j in range(i, end_idx)]\n",
    "    )\n",
    "    print(f\"   Stored batch {i//batch_size + 1}: {end_idx - i} documents\")\n",
    "\n",
    "print(f\"✅ Total documents stored: {collection.count()}\")"
   ]
  },
  {
   "cell_type": "code",
   "execution_count": null,
   "id": "ade30275",
   "metadata": {},
   "outputs": [
    {
     "name": "stdout",
     "output_type": "stream",
     "text": [
      "🧠 Memory system initialized\n"
     ]
    },
    {
     "name": "stderr",
     "output_type": "stream",
     "text": [
      "C:\\Users\\gaura\\AppData\\Local\\Temp\\ipykernel_17960\\868307314.py:4: LangChainDeprecationWarning: Please see the migration guide at: https://python.langchain.com/docs/versions/migrating_memory/\n",
      "  self.conversation_memory = ConversationBufferMemory(\n"
     ]
    }
   ],
   "source": [
    "# Simple memory class\n",
    "class BatteryRAGMemory:\n",
    "    def __init__(self):\n",
    "        self.conversation_memory = ConversationBufferMemory(\n",
    "            memory_key=\"chat_history\", return_messages=True\n",
    "        )\n",
    "        self.query_history = []\n",
    "    \n",
    "    def add_interaction(self, query, response, retrieved_docs):\n",
    "        timestamp = datetime.now().strftime(\"%Y-%m-%d %H:%M:%S\")\n",
    "        self.query_history.append({\n",
    "            \"timestamp\": timestamp, \"query\": query, \n",
    "            \"response\": response, \"docs_count\": len(retrieved_docs)\n",
    "        })\n",
    "        self.conversation_memory.save_context(\n",
    "            {\"input\": query}, {\"output\": response}\n",
    "        )\n",
    "    \n",
    "    def get_context(self):\n",
    "        if self.query_history:\n",
    "            recent = self.query_history[-2:]  # Last 2 interactions\n",
    "            context = \"Previous queries:\\n\"\n",
    "            for item in recent:\n",
    "                context += f\"Q: {item['query']}\\nA: {item['response'][:80]}...\\n\"\n",
    "            return context\n",
    "        return \"\"\n",
    "\n",
    "memory = BatteryRAGMemory()\n",
    "print(\"🧠 Memory system ready\")"
   ]
  },
  {
   "cell_type": "code",
   "execution_count": 24,
   "id": "78673585",
   "metadata": {},
   "outputs": [
    {
     "name": "stdout",
     "output_type": "stream",
     "text": [
      "🔍 Retriever function ready\n"
     ]
    }
   ],
   "source": [
    "# Create retriever function\n",
    "def retrieve_documents(query, top_k=3):\n",
    "    \"\"\"Retrieve relevant documents based on query\"\"\"\n",
    "    query_embedding = embedding_model.encode([query])\n",
    "    results = collection.query(\n",
    "        query_embeddings=query_embedding.tolist(),\n",
    "        n_results=top_k\n",
    "    )\n",
    "    return results['documents'][0]\n",
    "\n",
    "print(\"🔍 Retriever function ready\")"
   ]
  },
  {
   "cell_type": "code",
   "execution_count": 30,
   "id": "8116664a",
   "metadata": {},
   "outputs": [
    {
     "name": "stdout",
     "output_type": "stream",
     "text": [
      "⚙️ Document parser ready\n"
     ]
    }
   ],
   "source": [
    "# Parse battery documents\n",
    "def parse_battery_docs(retrieved_docs):\n",
    "    \"\"\"Parse retrieved documents into battery objects\"\"\"\n",
    "    batteries = []\n",
    "    for doc in retrieved_docs:\n",
    "        lines = doc.strip().split('\\n')\n",
    "        if len(lines) >= 5:\n",
    "            try:\n",
    "                battery = {\n",
    "                    'id': lines[0].split(': ')[1],\n",
    "                    'type': lines[1].split(': ')[1], \n",
    "                    'voltage': float(lines[2].split(': ')[1].replace(' V', '')),\n",
    "                    'capacity': float(lines[3].split(': ')[1].replace(' Ah', '')),\n",
    "                    'energy_density': float(lines[4].split(': ')[1].replace(' Wh/kg', ''))\n",
    "                }\n",
    "                batteries.append(battery)\n",
    "            except:\n",
    "                continue\n",
    "    return batteries\n",
    "\n",
    "print(\"⚙️ Document parser ready\")"
   ]
  },
  {
   "cell_type": "code",
   "execution_count": 31,
   "id": "282cde84",
   "metadata": {},
   "outputs": [
    {
     "name": "stdout",
     "output_type": "stream",
     "text": [
      "🧮 Calculator function ready\n"
     ]
    }
   ],
   "source": [
    "# Battery pack calculation function\n",
    "def calculate_battery_pack(query, batteries):\n",
    "    \"\"\"Calculate battery pack specifications\"\"\"\n",
    "    if not batteries:\n",
    "        return \"No battery data found for calculation.\"\n",
    "    \n",
    "    selected = batteries[0]\n",
    "    \n",
    "    # Extract configuration (2S3P format)\n",
    "    import re\n",
    "    series_match = re.search(r'(\\d+)S', query)\n",
    "    parallel_match = re.search(r'(\\d+)P', query)\n",
    "    \n",
    "    series = int(series_match.group(1)) if series_match else 1\n",
    "    parallel = int(parallel_match.group(1)) if parallel_match else 1\n",
    "    \n",
    "    pack_voltage = selected['voltage'] * series\n",
    "    pack_capacity = selected['capacity'] * parallel\n",
    "    pack_energy = pack_voltage * pack_capacity\n",
    "    \n",
    "    return f\"\"\"🔋 Battery Pack Calculation:\n",
    "Selected: {selected['id']} ({selected['type']})\n",
    "Configuration: {series}S{parallel}P\n",
    "Pack Voltage: {pack_voltage:.2f} V\n",
    "Pack Capacity: {pack_capacity:.2f} Ah  \n",
    "Pack Energy: {pack_energy:.2f} Wh\n",
    "Total Cells: {series * parallel}\"\"\"\n",
    "\n",
    "print(\"🧮 Calculator function ready\")"
   ]
  },
  {
   "cell_type": "code",
   "execution_count": 32,
   "id": "aeca0ca5",
   "metadata": {},
   "outputs": [
    {
     "name": "stdout",
     "output_type": "stream",
     "text": [
      "📝 Prompt template created\n"
     ]
    }
   ],
   "source": [
    "# LangChain Prompt Template\n",
    "prompt_template = PromptTemplate(\n",
    "    input_variables=[\"context\", \"query\", \"battery_data\"],\n",
    "    template=\"\"\"You are a battery engineering expert assistant.\n",
    "\n",
    "Previous Context:\n",
    "{context}\n",
    "\n",
    "Current Query: {query}\n",
    "\n",
    "Available Battery Data:\n",
    "{battery_data}\n",
    "\n",
    "Instructions:\n",
    "- Answer based on provided data and context\n",
    "- Show step-by-step calculations\n",
    "- Use technical battery terminology\n",
    "- For configurations: 2S = series, 3P = parallel\n",
    "\n",
    "Response:\"\"\"\n",
    ")\n",
    "\n",
    "print(\"📝 Prompt template created\")"
   ]
  },
  {
   "cell_type": "code",
   "execution_count": 33,
   "id": "58b4a95a",
   "metadata": {},
   "outputs": [
    {
     "name": "stdout",
     "output_type": "stream",
     "text": [
      "🔗 Chain components ready\n"
     ]
    }
   ],
   "source": [
    "# LangChain Chain Components\n",
    "def format_docs(docs):\n",
    "    \"\"\"Format documents for the chain\"\"\"\n",
    "    return \"\\n---\\n\".join(docs)\n",
    "\n",
    "def generate_response(query, docs):\n",
    "    \"\"\"Generate response using battery calculation logic\"\"\"\n",
    "    batteries = parse_battery_docs(docs)\n",
    "    \n",
    "    if 'calculate' in query.lower() or 'configuration' in query.lower():\n",
    "        return calculate_battery_pack(query, batteries)\n",
    "    elif 'compare' in query.lower():\n",
    "        return compare_batteries(batteries)\n",
    "    else:\n",
    "        return f\"Found {len(batteries)} batteries: \" + \", \".join([b['id'] for b in batteries[:3]])\n",
    "\n",
    "def compare_batteries(batteries):\n",
    "    \"\"\"Compare multiple batteries\"\"\"\n",
    "    if len(batteries) < 2:\n",
    "        return \"Need at least 2 batteries to compare.\"\n",
    "    \n",
    "    comparison = \"🔋 Battery Comparison:\\n\"\n",
    "    for i, bat in enumerate(batteries[:3], 1):\n",
    "        comparison += f\"{i}. {bat['id']}: {bat['voltage']}V, {bat['capacity']}Ah, {bat['energy_density']}Wh/kg\\n\"\n",
    "    return comparison\n",
    "\n",
    "print(\"🔗 Chain components ready\")"
   ]
  },
  {
   "cell_type": "code",
   "execution_count": 34,
   "id": "aef0c076",
   "metadata": {},
   "outputs": [
    {
     "name": "stdout",
     "output_type": "stream",
     "text": [
      "⛓️ LangChain RAG chain created\n"
     ]
    }
   ],
   "source": [
    "# Create LangChain RAG Chain\n",
    "from langchain_core.runnables import RunnableParallel\n",
    "\n",
    "# Build the chain\n",
    "rag_chain = (\n",
    "    RunnableParallel({\n",
    "        \"context\": lambda x: memory.get_context(),\n",
    "        \"query\": RunnablePassthrough(),\n",
    "        \"battery_data\": lambda x: format_docs(retrieve_documents(x))\n",
    "    })\n",
    "    | RunnableLambda(lambda x: {\n",
    "        \"response\": generate_response(x[\"query\"], retrieve_documents(x[\"query\"])),\n",
    "        \"query\": x[\"query\"],\n",
    "        \"context\": x[\"context\"]\n",
    "    })\n",
    ")\n",
    "\n",
    "print(\"⛓️ LangChain RAG chain created\")"
   ]
  },
  {
   "cell_type": "code",
   "execution_count": 36,
   "id": "c39158a4",
   "metadata": {},
   "outputs": [
    {
     "name": "stdout",
     "output_type": "stream",
     "text": [
      "🧪 Testing LangChain RAG Chain\n",
      "\n",
      "========================================\n",
      "Test 1: Calculate energy for 2S3P configuration\n",
      "========================================\n",
      "🔋 Battery Pack Calculation:\n",
      "Selected: BAT-05323 (Prismatic)\n",
      "Configuration: 2S3P\n",
      "Pack Voltage: 6.60 V\n",
      "Pack Capacity: 86.16 Ah  \n",
      "Pack Energy: 568.66 Wh\n",
      "Total Cells: 6\n",
      "\n",
      "💾 Memory: 5 interactions\n",
      "\n",
      "========================================\n",
      "Test 2: Compare top 3 batteries by energy density\n",
      "========================================\n",
      "🔋 Battery Comparison:\n",
      "1. BAT-00130: 3.78V, 2.51Ah, 25.8Wh/kg\n",
      "2. BAT-00171: 3.63V, 3.31Ah, 30.0Wh/kg\n",
      "3. BAT-04483: 3.7V, 2.59Ah, 28.8Wh/kg\n",
      "\n",
      "\n",
      "💾 Memory: 6 interactions\n",
      "\n",
      "========================================\n",
      "Test 3: What batteries have high voltage?\n",
      "========================================\n",
      "Found 3 batteries: BAT-00112, BAT-00100, BAT-00190\n",
      "\n",
      "💾 Memory: 7 interactions\n",
      "\n"
     ]
    }
   ],
   "source": [
    "# Test the LangChain RAG system\n",
    "print(\"🧪 Testing LangChain RAG Chain\\n\")\n",
    "\n",
    "test_queries = [\n",
    "    \"Calculate energy for 2S3P configuration\",\n",
    "    \"Compare top 3 batteries by energy density\", \n",
    "    \"What batteries have high voltage?\"\n",
    "]\n",
    "\n",
    "for i, query in enumerate(test_queries, 1):\n",
    "    print(f\"{'='*40}\")\n",
    "    print(f\"Test {i}: {query}\")\n",
    "    print(f\"{'='*40}\")\n",
    "    \n",
    "    # Use LangChain\n",
    "    result = rag_chain.invoke(query)\n",
    "    print(result[\"response\"])\n",
    "    \n",
    "    # Save to memory\n",
    "    docs = retrieve_documents(query)\n",
    "    memory.add_interaction(query, result[\"response\"], docs)\n",
    "    print(f\"\\n💾 Memory: {len(memory.query_history)} interactions\\n\")"
   ]
  },
  {
   "cell_type": "markdown",
   "id": "e1321f9d",
   "metadata": {},
   "source": [
    "## 🎉 Streamlined Battery RAG System Complete!\n",
    "\n",
    "### 📊 New Structure (Small Cells):\n",
    "1. **Core Imports** - Basic dependencies\n",
    "2. **LangChain Imports** - RAG chain components  \n",
    "3. **Data Loading** - CSV processing\n",
    "4. **Document Formatting** - Structured text creation\n",
    "5. **Embeddings** - Vector creation\n",
    "6. **ChromaDB Setup** - Vector store initialization\n",
    "7. **Batch Storage** - Efficient data storage\n",
    "8. **Memory System** - Conversation tracking\n",
    "9. **Retriever** - Document search function\n",
    "10. **Parser** - Battery data extraction\n",
    "11. **Calculator** - Pack calculations\n",
    "12. **Prompt Template** - LangChain prompting\n",
    "13. **Chain Components** - RAG logic\n",
    "14. **LangChain Chain** - Complete RAG pipeline\n",
    "15. **Testing** - Chain validation\n",
    "16. **Interactive Chat** - User interface\n",
    "\n",
    "### 🔗 LangChain Integration:\n",
    "- **RunnableParallel** for context + retrieval\n",
    "- **RunnableLambda** for custom processing\n",
    "- **PromptTemplate** for structured prompting\n",
    "- **Memory integration** with conversation tracking\n",
    "- **Modular components** for easy modification"
   ]
  },
  {
   "cell_type": "code",
   "execution_count": 35,
   "id": "d31d036f",
   "metadata": {},
   "outputs": [
    {
     "name": "stdout",
     "output_type": "stream",
     "text": [
      "🧪 Testing the chain:\n",
      "✅ Chain working! Result: 🔋 Battery Pack Calculation:\n",
      "Selected: BAT-02123 (Prismatic)\n",
      "Configuration: 2S3P\n",
      "Pack Voltage: 6.60 V...\n",
      "\n",
      "🚀 Run battery_chat() for interactive mode\n",
      "🔗 Use rag_chain.invoke('your query') for direct access\n"
     ]
    }
   ],
   "source": [
    "# Interactive chat function\n",
    "def battery_chat():\n",
    "    \"\"\"Simple interactive chat using LangChain\"\"\"\n",
    "    print(\"🔋 Battery Expert (LangChain) - type 'quit' to exit\\n\")\n",
    "    \n",
    "    while True:\n",
    "        query = input(\"❓ Question: \").strip()\n",
    "        \n",
    "        if query.lower() in ['quit', 'exit']:\n",
    "            print(\"👋 Goodbye!\")\n",
    "            break\n",
    "            \n",
    "        if query.lower() == 'history':\n",
    "            for i, item in enumerate(memory.query_history, 1):\n",
    "                print(f\"{i}. {item['query']}\")\n",
    "            continue\n",
    "            \n",
    "        if not query:\n",
    "            continue\n",
    "            \n",
    "        # Use the chain\n",
    "        result = rag_chain.invoke(query)\n",
    "        print(f\"\\n🤖 {result['response']}\\n\")\n",
    "        \n",
    "        # Save to memory  \n",
    "        docs = retrieve_documents(query)\n",
    "        memory.add_interaction(query, result['response'], docs)\n",
    "\n",
    "# Test the chain with a simple example\n",
    "print(\"🧪 Testing the chain:\")\n",
    "result = rag_chain.invoke(\"Calculate 2S3P battery configuration\")\n",
    "print(\"✅ Chain working! Result:\", result[\"response\"][:100] + \"...\")\n",
    "\n",
    "print(\"\\n🚀 Run battery_chat() for interactive mode\")\n",
    "print(\"🔗 Use rag_chain.invoke('your query') for direct access\")"
   ]
  },
  {
   "cell_type": "code",
   "execution_count": null,
   "id": "1f50dc6b",
   "metadata": {},
   "outputs": [],
   "source": []
  },
  {
   "cell_type": "code",
   "execution_count": 37,
   "id": "2480833d",
   "metadata": {},
   "outputs": [
    {
     "name": "stdout",
     "output_type": "stream",
     "text": [
      "==================================================\n",
      "🔋 BATTERY RAG SYSTEM STATUS\n",
      "==================================================\n",
      "✅ Data loaded: 10000 battery records\n",
      "✅ Embeddings created: (10000, 384)\n",
      "✅ Vector store: 10000 documents\n",
      "✅ Memory system: 7 interactions\n",
      "✅ LangChain RAG chain: Ready\n",
      "==================================================\n",
      "🚀 READY FOR USE!\n",
      "📝 Usage: rag_chain.invoke('your query')\n",
      "💬 Interactive: battery_chat()\n",
      "==================================================\n"
     ]
    }
   ],
   "source": [
    "# 🎉 System Status Check\n",
    "print(\"=\"*50)\n",
    "print(\"🔋 BATTERY RAG SYSTEM STATUS\")\n",
    "print(\"=\"*50)\n",
    "print(f\"✅ Data loaded: {len(df)} battery records\")\n",
    "print(f\"✅ Embeddings created: {embeddings.shape}\")\n",
    "print(f\"✅ Vector store: {collection.count()} documents\")\n",
    "print(f\"✅ Memory system: {len(memory.query_history)} interactions\")\n",
    "print(f\"✅ LangChain RAG chain: Ready\")\n",
    "print(\"=\"*50)\n",
    "print(\"🚀 READY FOR USE!\")\n",
    "print(\"📝 Usage: rag_chain.invoke('your query')\")\n",
    "print(\"💬 Interactive: battery_chat()\")\n",
    "print(\"=\"*50)"
   ]
  },
  {
   "cell_type": "code",
   "execution_count": 39,
   "id": "26cc442d",
   "metadata": {},
   "outputs": [
    {
     "name": "stdout",
     "output_type": "stream",
     "text": [
      "🔋 Battery Pack Calculation:\n",
      "Selected: BAT-02123 (Prismatic)\n",
      "Configuration: 2S3P\n",
      "Pack Voltage: 6.60 V\n",
      "Pack Capacity: 62.34 Ah  \n",
      "Pack Energy: 411.44 Wh\n",
      "Total Cells: 6\n"
     ]
    }
   ],
   "source": [
    "result = rag_chain.invoke(\"Calculate 2S3P battery configuration\")\n",
    "print(result[\"response\"])"
   ]
  },
  {
   "cell_type": "code",
   "execution_count": null,
   "id": "b8cca8dc",
   "metadata": {},
   "outputs": [],
   "source": []
  }
 ],
 "metadata": {
  "kernelspec": {
   "display_name": "langchain",
   "language": "python",
   "name": "python3"
  },
  "language_info": {
   "codemirror_mode": {
    "name": "ipython",
    "version": 3
   },
   "file_extension": ".py",
   "mimetype": "text/x-python",
   "name": "python",
   "nbconvert_exporter": "python",
   "pygments_lexer": "ipython3",
   "version": "3.11.13"
  }
 },
 "nbformat": 4,
 "nbformat_minor": 5
}
