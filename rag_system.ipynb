{
 "cells": [
  {
   "cell_type": "markdown",
   "id": "fd9d3fa8",
   "metadata": {},
   "source": [
    "# 🔋 Battery RAG System - Following Architecture Diagram\n",
    "\n",
    "## 🏗️ RAG Architecture Flow:\n",
    "1. **Data Input** → **Document Chunking** → **Embedding Model** → **Vector Store**\n",
    "2. **User Query** → **Semantic Search** → **Retrieved Context**  \n",
    "3. **Query + Context** → **Prompt Template** → **LLM** → **Response**\n",
    "\n",
    "Each step implemented in small, clear cells for easy understanding and API integration."
   ]
  },
  {
   "cell_type": "markdown",
   "id": "90642fce",
   "metadata": {},
   "source": [
    "## 📦 Step 1: Basic Imports"
   ]
  },
  {
   "cell_type": "code",
   "execution_count": 43,
   "id": "cfd1f055",
   "metadata": {},
   "outputs": [
    {
     "name": "stdout",
     "output_type": "stream",
     "text": [
      "✅ Basic imports loaded\n"
     ]
    }
   ],
   "source": [
    "# Basic data processing imports\n",
    "import pandas as pd\n",
    "import numpy as np\n",
    "from datetime import datetime\n",
    "print(\"✅ Basic imports loaded\")"
   ]
  },
  {
   "cell_type": "markdown",
   "id": "da28967d",
   "metadata": {},
   "source": [
    "## 🧠 Step 2: Vector & LLM Imports"
   ]
  },
  {
   "cell_type": "code",
   "execution_count": 44,
   "id": "ef7cdaa6",
   "metadata": {},
   "outputs": [
    {
     "name": "stdout",
     "output_type": "stream",
     "text": [
      "✅ Vector processing imports loaded\n"
     ]
    }
   ],
   "source": [
    "# Vector database and embeddings\n",
    "import chromadb\n",
    "from sentence_transformers import SentenceTransformer\n",
    "print(\"✅ Vector processing imports loaded\")"
   ]
  },
  {
   "cell_type": "code",
   "execution_count": 45,
   "id": "aca96c88",
   "metadata": {},
   "outputs": [
    {
     "name": "stdout",
     "output_type": "stream",
     "text": [
      "✅ LangChain imports loaded\n"
     ]
    }
   ],
   "source": [
    "# LangChain for RAG pipeline\n",
    "from langchain_core.prompts import PromptTemplate\n",
    "from langchain_core.runnables import RunnablePassthrough, RunnableLambda\n",
    "from langchain_core.output_parsers import StrOutputParser\n",
    "print(\"✅ LangChain imports loaded\")"
   ]
  },
  {
   "cell_type": "markdown",
   "id": "0e87fef0",
   "metadata": {},
   "source": [
    "## 📊 Step 3: Data Input & Loading"
   ]
  },
  {
   "cell_type": "code",
   "execution_count": 46,
   "id": "86e326c2",
   "metadata": {},
   "outputs": [
    {
     "name": "stdout",
     "output_type": "stream",
     "text": [
      "📊 Loading battery data...\n",
      "✅ Loaded 10000 battery records\n",
      "📋 Columns: ['Cell_ID', 'Cell_Type', 'Nominal_Voltage_V', 'Capacity_Ah', 'Internal_Resistance_mOhm', 'Gravimetric_Energy_Density_Wh/kg', 'Volumetric_Energy_Density_Wh/L', 'Thermal_Runaway_Temp_C', 'Cathode_Material', 'Anode_Material', 'Separator_Material']\n"
     ]
    },
    {
     "name": "stderr",
     "output_type": "stream",
     "text": [
      "C:\\Users\\gaura\\AppData\\Local\\Temp\\ipykernel_17960\\3792319427.py:4: FutureWarning: errors='ignore' is deprecated and will raise in a future version. Use to_numeric without passing `errors` and catch exceptions explicitly instead\n",
      "  df = df.apply(pd.to_numeric, errors='ignore').dropna().reset_index(drop=True)\n"
     ]
    }
   ],
   "source": [
    "# Load battery dataset\n",
    "print(\"📊 Loading battery data...\")\n",
    "df = pd.read_csv('battery_data_10000_rows.csv')\n",
    "df = df.apply(pd.to_numeric, errors='ignore').dropna().reset_index(drop=True)\n",
    "print(f\"✅ Loaded {len(df)} battery records\")\n",
    "print(f\"📋 Columns: {list(df.columns)}\")"
   ]
  },
  {
   "cell_type": "markdown",
   "id": "08482355",
   "metadata": {},
   "source": [
    "## 📄 Step 4: Document Chunking & Formatting"
   ]
  },
  {
   "cell_type": "code",
   "execution_count": 47,
   "id": "a25ccc17",
   "metadata": {},
   "outputs": [
    {
     "name": "stdout",
     "output_type": "stream",
     "text": [
      "📄 Document formatting function ready\n"
     ]
    }
   ],
   "source": [
    "# Document formatting function\n",
    "def format_battery_document(row):\n",
    "    \"\"\"Convert battery row into structured text document\"\"\"\n",
    "    return f\"\"\"Battery ID: {row.iloc[0]}\n",
    "Type: {row.iloc[1] if len(row) > 1 else 'Unknown'}\n",
    "Voltage: {row.iloc[2] if len(row) > 2 else 'Unknown'} V\n",
    "Capacity: {row.iloc[3] if len(row) > 3 else 'Unknown'} Ah\n",
    "Energy Density: {row.iloc[4] if len(row) > 4 else 'Unknown'} Wh/kg\"\"\"\n",
    "\n",
    "print(\"📄 Document formatting function ready\")"
   ]
  },
  {
   "cell_type": "code",
   "execution_count": 48,
   "id": "2fee0e96",
   "metadata": {},
   "outputs": [
    {
     "name": "stdout",
     "output_type": "stream",
     "text": [
      "📄 Creating structured documents...\n",
      "✅ Created 10000 structured documents\n",
      "📋 Sample document:\n",
      "Battery ID: BAT-00001\n",
      "Type: Pouch\n",
      "Voltage: 3.71 V\n",
      "Capacity: 4.14 Ah\n",
      "Energy Density: 17.4 Wh/kg\n",
      "✅ Created 10000 structured documents\n",
      "📋 Sample document:\n",
      "Battery ID: BAT-00001\n",
      "Type: Pouch\n",
      "Voltage: 3.71 V\n",
      "Capacity: 4.14 Ah\n",
      "Energy Density: 17.4 Wh/kg\n"
     ]
    }
   ],
   "source": [
    "# Create structured documents from data\n",
    "print(\"📄 Creating structured documents...\")\n",
    "documents = [format_battery_document(row) for _, row in df.iterrows()]\n",
    "print(f\"✅ Created {len(documents)} structured documents\")\n",
    "print(f\"📋 Sample document:\\n{documents[0]}\")"
   ]
  },
  {
   "cell_type": "markdown",
   "id": "68848ee9",
   "metadata": {},
   "source": [
    "## 🧠 Step 5: Embedding Model"
   ]
  },
  {
   "cell_type": "code",
   "execution_count": 49,
   "id": "814fc406",
   "metadata": {},
   "outputs": [
    {
     "name": "stdout",
     "output_type": "stream",
     "text": [
      "🧠 Loading embedding model...\n",
      "✅ Embedding model loaded\n",
      "✅ Embedding model loaded\n"
     ]
    }
   ],
   "source": [
    "# Initialize embedding model\n",
    "print(\"🧠 Loading embedding model...\")\n",
    "embedding_model = SentenceTransformer('all-MiniLM-L6-v2')\n",
    "print(\"✅ Embedding model loaded\")"
   ]
  },
  {
   "cell_type": "code",
   "execution_count": 50,
   "id": "f64ba4d8",
   "metadata": {},
   "outputs": [
    {
     "name": "stdout",
     "output_type": "stream",
     "text": [
      "🧠 Creating embeddings...\n"
     ]
    },
    {
     "name": "stderr",
     "output_type": "stream",
     "text": [
      "Batches: 100%|██████████| 313/313 [00:45<00:00,  6.81it/s]"
     ]
    },
    {
     "name": "stdout",
     "output_type": "stream",
     "text": [
      "✅ Created embeddings with shape: (10000, 384)\n"
     ]
    },
    {
     "name": "stderr",
     "output_type": "stream",
     "text": [
      "\n"
     ]
    }
   ],
   "source": [
    "# Create embeddings for all documents\n",
    "print(\"🧠 Creating embeddings...\")\n",
    "embeddings = embedding_model.encode(documents, show_progress_bar=True)\n",
    "print(f\"✅ Created embeddings with shape: {embeddings.shape}\")"
   ]
  },
  {
   "cell_type": "markdown",
   "id": "7bd545fe",
   "metadata": {},
   "source": [
    "## 🗄️ Step 6: Vector Store Setup"
   ]
  },
  {
   "cell_type": "code",
   "execution_count": 51,
   "id": "8206aa57",
   "metadata": {},
   "outputs": [
    {
     "name": "stdout",
     "output_type": "stream",
     "text": [
      "🗄️ Setting up vector store...\n",
      "✅ Vector store initialized\n"
     ]
    }
   ],
   "source": [
    "# Initialize ChromaDB vector store\n",
    "print(\"🗄️ Setting up vector store...\")\n",
    "chroma_client = chromadb.Client()\n",
    "\n",
    "# Clean up existing collection\n",
    "try:\n",
    "    chroma_client.delete_collection(name=\"battery_rag\")\n",
    "except:\n",
    "    pass\n",
    "\n",
    "collection = chroma_client.create_collection(name=\"battery_rag\")\n",
    "print(\"✅ Vector store initialized\")"
   ]
  },
  {
   "cell_type": "code",
   "execution_count": 52,
   "id": "d7bcd6ce",
   "metadata": {},
   "outputs": [
    {
     "name": "stdout",
     "output_type": "stream",
     "text": [
      "💾 Storing documents in vector store...\n",
      "   Batch 1: 1000 documents\n",
      "   Batch 2: 1000 documents\n",
      "   Batch 3: 1000 documents\n",
      "   Batch 4: 1000 documents\n",
      "   Batch 5: 1000 documents\n",
      "   Batch 6: 1000 documents\n",
      "   Batch 7: 1000 documents\n",
      "   Batch 8: 1000 documents\n",
      "   Batch 9: 1000 documents\n",
      "   Batch 10: 1000 documents\n",
      "✅ Stored 10000 documents in vector store\n"
     ]
    }
   ],
   "source": [
    "# Store documents and embeddings in batches\n",
    "print(\"💾 Storing documents in vector store...\")\n",
    "batch_size = 1000\n",
    "\n",
    "for i in range(0, len(documents), batch_size):\n",
    "    end_idx = min(i + batch_size, len(documents))\n",
    "    collection.add(\n",
    "        documents=documents[i:end_idx],\n",
    "        embeddings=embeddings[i:end_idx].tolist(),\n",
    "        ids=[str(j) for j in range(i, end_idx)]\n",
    "    )\n",
    "    print(f\"   Batch {i//batch_size + 1}: {end_idx - i} documents\")\n",
    "\n",
    "print(f\"✅ Stored {collection.count()} documents in vector store\")"
   ]
  },
  {
   "cell_type": "markdown",
   "id": "e0e5f9c7",
   "metadata": {},
   "source": [
    "## 🔍 Step 7: Semantic Search Function"
   ]
  },
  {
   "cell_type": "code",
   "execution_count": 53,
   "id": "bced46b8",
   "metadata": {},
   "outputs": [
    {
     "name": "stdout",
     "output_type": "stream",
     "text": [
      "🔍 Semantic search function ready\n"
     ]
    }
   ],
   "source": [
    "# Semantic search function\n",
    "def semantic_search(query, top_k=3):\n",
    "    \"\"\"Perform semantic search to retrieve relevant documents\"\"\"\n",
    "    print(f\"🔍 Searching for: '{query}'\")\n",
    "    \n",
    "    # Create query embedding\n",
    "    query_embedding = embedding_model.encode([query])\n",
    "    \n",
    "    # Search vector store\n",
    "    results = collection.query(\n",
    "        query_embeddings=query_embedding.tolist(),\n",
    "        n_results=top_k\n",
    "    )\n",
    "    \n",
    "    retrieved_docs = results['documents'][0]\n",
    "    print(f\"✅ Retrieved {len(retrieved_docs)} relevant documents\")\n",
    "    return retrieved_docs\n",
    "\n",
    "print(\"🔍 Semantic search function ready\")"
   ]
  },
  {
   "cell_type": "markdown",
   "id": "7bfbed71",
   "metadata": {},
   "source": [
    "## 📝 Step 8: Prompt Template"
   ]
  },
  {
   "cell_type": "code",
   "execution_count": 54,
   "id": "3cded1cb",
   "metadata": {},
   "outputs": [
    {
     "name": "stdout",
     "output_type": "stream",
     "text": [
      "📝 Prompt template created\n"
     ]
    }
   ],
   "source": [
    "# Create prompt template for LLM\n",
    "prompt_template = PromptTemplate(\n",
    "    input_variables=[\"query\", \"context\"],\n",
    "    template=\"\"\"You are a battery engineering expert. Use the provided context to answer the user's question.\n",
    "\n",
    "Context (Retrieved Battery Data):\n",
    "{context}\n",
    "\n",
    "User Question: {query}\n",
    "\n",
    "Instructions:\n",
    "- Answer based only on the provided context\n",
    "- Be technical and precise\n",
    "- If calculating configurations, show step-by-step work\n",
    "- For 2S3P: 2 in series (voltage adds), 3 in parallel (capacity adds)\n",
    "\n",
    "Answer:\"\"\"\n",
    ")\n",
    "\n",
    "print(\"📝 Prompt template created\")"
   ]
  },
  {
   "cell_type": "markdown",
   "id": "455052cc",
   "metadata": {},
   "source": [
    "## 🤖 Step 9: LLM Setup (API Ready)"
   ]
  },
  {
   "cell_type": "code",
   "execution_count": 65,
   "id": "4d7d1acf",
   "metadata": {},
   "outputs": [
    {
     "name": "stdout",
     "output_type": "stream",
     "text": [
      "✅ Google Gemini LLM initialized successfully!\n",
      "🧪 Test response: Yes, I am working.  I'm ready to assist you with y...\n",
      "🤖 LLM ready for RAG pipeline\n"
     ]
    }
   ],
   "source": [
    "# LLM Setup - Google Gemini Integration\n",
    "import os\n",
    "from langchain_google_genai import ChatGoogleGenerativeAI\n",
    "from dotenv import load_dotenv\n",
    "\n",
    "# Load environment variables\n",
    "load_dotenv()\n",
    "\n",
    "# Set your API key (replace with your actual key)\n",
    "google_api_key = \"gemini_api_key\"\n",
    "\n",
    "try:\n",
    "    # Use a valid model name - gemini-1.5-flash is currently available\n",
    "    llm = ChatGoogleGenerativeAI(model=\"gemini-1.5-flash\")\n",
    "    \n",
    "    # Test the connection\n",
    "    test_response = llm.invoke(\"Hello, are you working?\")\n",
    "    print(\"✅ Google Gemini LLM initialized successfully!\")\n",
    "    print(f\"🧪 Test response: {test_response.content[:50]}...\")\n",
    "    \n",
    "except Exception as e:\n",
    "    print(f\"❌ Error with gemini-1.5-flash: {e}\")\n",
    "    print(\"🔄 Trying alternative model...\")\n",
    "    \n",
    "    print(\"❌ API key is not working. Please check your API key and try again.\")\n",
    "    llm = None\n",
    "\n",
    "print(\"🤖 LLM ready for RAG pipeline\")"
   ]
  },
  {
   "cell_type": "markdown",
   "id": "6f73ee93",
   "metadata": {},
   "source": [
    "## ⛓️ Step 10: RAG Pipeline"
   ]
  },
  {
   "cell_type": "code",
   "execution_count": 61,
   "id": "2bc00c2c",
   "metadata": {},
   "outputs": [
    {
     "name": "stdout",
     "output_type": "stream",
     "text": [
      "⛓️ RAG pipeline function ready\n"
     ]
    }
   ],
   "source": [
    "# Complete RAG pipeline function\n",
    "def rag_query(user_query):\n",
    "    \"\"\"Complete RAG pipeline: Query → Search → Context → Prompt → LLM → Response\"\"\"\n",
    "    \n",
    "    print(f\"\\n🔄 RAG Pipeline Processing: '{user_query}'\")\n",
    "    print(\"=\" * 50)\n",
    "    \n",
    "    # Step 1: Semantic Search\n",
    "    print(\"🔍 Step 1: Semantic Search\")\n",
    "    retrieved_docs = semantic_search(user_query, top_k=3)\n",
    "    \n",
    "    # Step 2: Format Context\n",
    "    print(\"📄 Step 2: Formatting Context\")\n",
    "    context = \"\\n---\\n\".join(retrieved_docs)\n",
    "    \n",
    "    # Step 3: Create Prompt\n",
    "    print(\"📝 Step 3: Creating Prompt\")\n",
    "    formatted_prompt = prompt_template.format(query=user_query, context=context)\n",
    "    \n",
    "    # Step 4: LLM Processing\n",
    "    print(\"🤖 Step 4: LLM Processing\")\n",
    "    try:\n",
    "        llm_response = llm.invoke(formatted_prompt)\n",
    "        \n",
    "        # Handle different response types\n",
    "        if hasattr(llm_response, 'content'):\n",
    "            response = llm_response.content  # Gemini response\n",
    "        else:\n",
    "            response = str(llm_response)  # Fallback\n",
    "            \n",
    "    except Exception as e:\n",
    "        print(f\"⚠️ LLM Error: {e}\")\n",
    "        response = \"Error occurred while processing with LLM. Please check your API key and model availability.\"\n",
    "    \n",
    "    print(\"✅ RAG Pipeline Complete\\n\")\n",
    "    \n",
    "    return {\n",
    "        \"query\": user_query,\n",
    "        \"retrieved_docs\": retrieved_docs,\n",
    "        \"response\": response,\n",
    "        \"context\": context\n",
    "    }\n",
    "\n",
    "print(\"⛓️ RAG pipeline function ready\")"
   ]
  },
  {
   "cell_type": "markdown",
   "id": "8c16e55f",
   "metadata": {},
   "source": [
    "## 🧪 Step 11: Test the RAG System"
   ]
  },
  {
   "cell_type": "code",
   "execution_count": 64,
   "id": "9a668fee",
   "metadata": {},
   "outputs": [
    {
     "name": "stdout",
     "output_type": "stream",
     "text": [
      "\n",
      "🔄 RAG Pipeline Processing: 'Calculate 2S3P battery configuration'\n",
      "==================================================\n",
      "🔍 Step 1: Semantic Search\n",
      "🔍 Searching for: 'Calculate 2S3P battery configuration'\n",
      "✅ Retrieved 3 relevant documents\n",
      "📄 Step 2: Formatting Context\n",
      "📝 Step 3: Creating Prompt\n",
      "🤖 Step 4: LLM Processing\n",
      "✅ RAG Pipeline Complete\n",
      "\n",
      "📋 RESULT:\n",
      "Query: Calculate 2S3P battery configuration\n",
      "Response: To calculate a 2S3P configuration, we need to select three batteries from the provided data to create a parallel group, and then combine two of these parallel groups in series.  Since we only have data for three unique batteries, we'll use all three to create a 2S3P configuration which is effectively a 2S1P + 1S1P series connection. This is not ideal, as a proper 2S3P would require 6 identical batteries. However, we will proceed to show the calculation based on the available data.\n",
      "\n",
      "\n",
      "**Step 1: Select Batteries for Parallel Groups**\n",
      "\n",
      "We will arbitrarily select BAT-02123, BAT-02705, and BAT-04335.  We'll form two groups. Group 1 will be BAT-02123 and BAT-04335. Group 2 will be BAT-02705.\n",
      "\n",
      "**Step 2: Calculate Parallel Group 1 (BAT-02123 and BAT-04335)**\n",
      "\n",
      "* **Voltage:** The voltage remains the same in a parallel configuration.  Therefore, the voltage of Group 1 is 3.3 V.\n",
      "* **Capacity:** The capacities add in parallel.  Capacity of Group 1 = 20.78 Ah + 22.33 Ah = 43.11 Ah\n",
      "\n",
      "**Step 3: Calculate Parallel Group 2 (BAT-02705)**\n",
      "\n",
      "* **Voltage:** 3.62 V\n",
      "* **Capacity:** 3.01 Ah\n",
      "\n",
      "**Step 4: Calculate the Series Configuration (Group 1 and Group 2)**\n",
      "\n",
      "* **Voltage:** Voltages add in series.  Total Voltage = 3.3 V + 3.62 V = 6.92 V\n",
      "* **Capacity:** The capacity of a series configuration is limited by the lowest capacity in the series. Therefore, the total capacity = 3.01 Ah (limited by Group 2).\n",
      "\n",
      "**Result:**\n",
      "\n",
      "The resulting 2S3P configuration (using the available data in a non-ideal way) will have a voltage of 6.92 V and a capacity of 3.01 Ah.  It is crucial to note that this is not a true 2S3P configuration due to the use of dissimilar batteries. A true 2S3P requires 6 identical batteries.  This calculation demonstrates the limitations imposed by the available data.\n",
      "\n",
      "📊 Retrieved 3 documents for context\n",
      "✅ RAG Pipeline Complete\n",
      "\n",
      "📋 RESULT:\n",
      "Query: Calculate 2S3P battery configuration\n",
      "Response: To calculate a 2S3P configuration, we need to select three batteries from the provided data to create a parallel group, and then combine two of these parallel groups in series.  Since we only have data for three unique batteries, we'll use all three to create a 2S3P configuration which is effectively a 2S1P + 1S1P series connection. This is not ideal, as a proper 2S3P would require 6 identical batteries. However, we will proceed to show the calculation based on the available data.\n",
      "\n",
      "\n",
      "**Step 1: Select Batteries for Parallel Groups**\n",
      "\n",
      "We will arbitrarily select BAT-02123, BAT-02705, and BAT-04335.  We'll form two groups. Group 1 will be BAT-02123 and BAT-04335. Group 2 will be BAT-02705.\n",
      "\n",
      "**Step 2: Calculate Parallel Group 1 (BAT-02123 and BAT-04335)**\n",
      "\n",
      "* **Voltage:** The voltage remains the same in a parallel configuration.  Therefore, the voltage of Group 1 is 3.3 V.\n",
      "* **Capacity:** The capacities add in parallel.  Capacity of Group 1 = 20.78 Ah + 22.33 Ah = 43.11 Ah\n",
      "\n",
      "**Step 3: Calculate Parallel Group 2 (BAT-02705)**\n",
      "\n",
      "* **Voltage:** 3.62 V\n",
      "* **Capacity:** 3.01 Ah\n",
      "\n",
      "**Step 4: Calculate the Series Configuration (Group 1 and Group 2)**\n",
      "\n",
      "* **Voltage:** Voltages add in series.  Total Voltage = 3.3 V + 3.62 V = 6.92 V\n",
      "* **Capacity:** The capacity of a series configuration is limited by the lowest capacity in the series. Therefore, the total capacity = 3.01 Ah (limited by Group 2).\n",
      "\n",
      "**Result:**\n",
      "\n",
      "The resulting 2S3P configuration (using the available data in a non-ideal way) will have a voltage of 6.92 V and a capacity of 3.01 Ah.  It is crucial to note that this is not a true 2S3P configuration due to the use of dissimilar batteries. A true 2S3P requires 6 identical batteries.  This calculation demonstrates the limitations imposed by the available data.\n",
      "\n",
      "📊 Retrieved 3 documents for context\n"
     ]
    }
   ],
   "source": [
    "# Test the complete RAG system\n",
    "test_query = \"Calculate 2S3P battery configuration\"\n",
    "\n",
    "result = rag_query(test_query)\n",
    "\n",
    "print(\"📋 RESULT:\")\n",
    "print(f\"Query: {result['query']}\")\n",
    "print(f\"Response: {result['response']}\")\n",
    "print(f\"\\n📊 Retrieved {len(result['retrieved_docs'])} documents for context\")"
   ]
  },
  {
   "cell_type": "markdown",
   "id": "de2b5860",
   "metadata": {},
   "source": [
    "## 🎯 Direct Query Cell - Write Your Question Here"
   ]
  },
  {
   "cell_type": "code",
   "execution_count": 72,
   "id": "6332e0f4",
   "metadata": {},
   "outputs": [
    {
     "name": "stdout",
     "output_type": "stream",
     "text": [
      "🎯 Processing your query: 'Compare lithium-ion vs lithium-polymer batteries'\n",
      "============================================================\n",
      "\n",
      "🔄 RAG Pipeline Processing: 'Compare lithium-ion vs lithium-polymer batteries'\n",
      "==================================================\n",
      "🔍 Step 1: Semantic Search\n",
      "🔍 Searching for: 'Compare lithium-ion vs lithium-polymer batteries'\n",
      "✅ Retrieved 3 relevant documents\n",
      "📄 Step 2: Formatting Context\n",
      "📝 Step 3: Creating Prompt\n",
      "🤖 Step 4: LLM Processing\n",
      "✅ RAG Pipeline Complete\n",
      "\n",
      "\n",
      "============================================================\n",
      "📋 COMPLETE RESULT:\n",
      "============================================================\n",
      "❓ Your Query: Compare lithium-ion vs lithium-polymer batteries\n",
      "\n",
      "🤖 AI Response:\n",
      "The provided data only includes information on cylindrical lithium-ion batteries.  There is no data on lithium-polymer batteries, therefore a comparison cannot be made.  The context only allows for analysis of the three listed cylindrical lithium-ion batteries (BAT-00185, BAT-00190, and BAT-00118), showing variations in capacity and energy density.\n",
      "\n",
      "📊 Retrieved 3 relevant documents\n",
      "\n",
      "📄 Context Used:\n",
      "----------------------------------------\n",
      "Document 1:\n",
      "Battery ID: BAT-00185\n",
      "Type: Cylindrical\n",
      "Voltage: 3.61 V\n",
      "Capacity: 2.91 Ah\n",
      "Energy Density: 27.3 Wh/kg...\n",
      "\n",
      "Document 2:\n",
      "Battery ID: BAT-00190\n",
      "Type: Cylindrical\n",
      "Voltage: 3.61 V\n",
      "Capacity: 2.86 Ah\n",
      "Energy Density: 29.3 Wh/kg...\n",
      "\n",
      "============================================================\n",
      "✅ RAG Pipeline Complete\n",
      "\n",
      "\n",
      "============================================================\n",
      "📋 COMPLETE RESULT:\n",
      "============================================================\n",
      "❓ Your Query: Compare lithium-ion vs lithium-polymer batteries\n",
      "\n",
      "🤖 AI Response:\n",
      "The provided data only includes information on cylindrical lithium-ion batteries.  There is no data on lithium-polymer batteries, therefore a comparison cannot be made.  The context only allows for analysis of the three listed cylindrical lithium-ion batteries (BAT-00185, BAT-00190, and BAT-00118), showing variations in capacity and energy density.\n",
      "\n",
      "📊 Retrieved 3 relevant documents\n",
      "\n",
      "📄 Context Used:\n",
      "----------------------------------------\n",
      "Document 1:\n",
      "Battery ID: BAT-00185\n",
      "Type: Cylindrical\n",
      "Voltage: 3.61 V\n",
      "Capacity: 2.91 Ah\n",
      "Energy Density: 27.3 Wh/kg...\n",
      "\n",
      "Document 2:\n",
      "Battery ID: BAT-00190\n",
      "Type: Cylindrical\n",
      "Voltage: 3.61 V\n",
      "Capacity: 2.86 Ah\n",
      "Energy Density: 29.3 Wh/kg...\n",
      "\n",
      "============================================================\n"
     ]
    }
   ],
   "source": [
    "# ✏️ WRITE YOUR QUERY HERE ✏️\n",
    "# Change the query below to ask any battery-related question\n",
    "my_query = \"Compare lithium-ion vs lithium-polymer batteries\"\n",
    "\n",
    "# Execute RAG pipeline\n",
    "print(f\"🎯 Processing your query: '{my_query}'\")\n",
    "print(\"=\" * 60)\n",
    "\n",
    "result = rag_query(my_query)\n",
    "\n",
    "print(\"\\n\" + \"=\"*60)\n",
    "print(\"📋 COMPLETE RESULT:\")\n",
    "print(\"=\"*60)\n",
    "print(f\"❓ Your Query: {result['query']}\")\n",
    "print(f\"\\n🤖 AI Response:\\n{result['response']}\")\n",
    "print(f\"\\n📊 Retrieved {len(result['retrieved_docs'])} relevant documents\")\n",
    "print(\"\\n📄 Context Used:\")\n",
    "print(\"-\" * 40)\n",
    "for i, doc in enumerate(result['retrieved_docs'][:2], 1):\n",
    "    print(f\"Document {i}:\\n{doc[:200]}...\\n\")\n",
    "print(\"=\"*60)"
   ]
  },
  {
   "cell_type": "markdown",
   "id": "7bf97228",
   "metadata": {},
   "source": [
    "## 🎯 Step 12: Interactive Chat Function"
   ]
  },
  {
   "cell_type": "code",
   "execution_count": 69,
   "id": "7362fb05",
   "metadata": {},
   "outputs": [
    {
     "name": "stdout",
     "output_type": "stream",
     "text": [
      "💬 Interactive chat function ready\n",
      "🚀 Run: battery_chat() to start interactive mode\n"
     ]
    }
   ],
   "source": [
    "# Interactive chat function\n",
    "def battery_chat():\n",
    "    \"\"\"Interactive chat using the RAG system\"\"\"\n",
    "    print(\"🔋 Battery RAG Chat - Type 'quit' to exit\\n\")\n",
    "    \n",
    "    while True:\n",
    "        user_input = input(\"❓ Your question: \").strip()\n",
    "        \n",
    "        if user_input.lower() in ['quit', 'exit', 'q']:\n",
    "            print(\"👋 Goodbye!\")\n",
    "            break\n",
    "            \n",
    "        if not user_input:\n",
    "            continue\n",
    "            \n",
    "        # Process through RAG pipeline\n",
    "        result = rag_query(user_input)\n",
    "        print(f\"\\n🤖 Response: {result['response']}\\n\")\n",
    "\n",
    "print(\"💬 Interactive chat function ready\")\n",
    "print(\"🚀 Run: battery_chat() to start interactive mode\")"
   ]
  },
  {
   "cell_type": "code",
   "execution_count": null,
   "id": "295f5976",
   "metadata": {},
   "outputs": [],
   "source": []
  }
 ],
 "metadata": {
  "language_info": {
   "name": "python"
  }
 },
 "nbformat": 4,
 "nbformat_minor": 5
}
